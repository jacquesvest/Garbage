{
 "cells": [
  {
   "cell_type": "markdown",
   "metadata": {},
   "source": [
    "# An Examination of Android and iOs Mobile Apps Sales\n",
    "\n",
    "For this project, I analyzed mobile apps sales data in order to understand which app parameters correlate with higher downloads. The goal of this project is to practice and gain a better understanding of data analytics using Python."
   ]
  },
  {
   "cell_type": "markdown",
   "metadata": {},
   "source": [
    "I begin by downloading and opening two datasets--one containing data for iPhone apps and another containing data for Android apps. "
   ]
  },
  {
   "cell_type": "code",
   "execution_count": 10,
   "metadata": {},
   "outputs": [],
   "source": [
    "from csv import reader\n",
    "x = open('AppleStore.csv', 'r')\n",
    "#look at your import statement, this would work if you just had \"import csv\" Here you're only importing the class \"reader\"\n",
    "# don't gloss over this, understand the difference  \n",
    "y = reader(x) \n",
    "apple_list = list(y)\n",
    "\n",
    "a = open('googleplaystore.csv')\n",
    "b = reader(a)\n",
    "android_list = list(b)"
   ]
  },
  {
   "cell_type": "markdown",
   "metadata": {},
   "source": [
    "The data set for android apps contains an irregular row. I find it and its index. "
   ]
  },
  {
   "cell_type": "code",
   "execution_count": 9,
   "metadata": {},
   "outputs": [],
   "source": [
    "#enumerate adds an index that can be used in the loop, now we're deleting the item out of the original object\n",
    "#rather than deleting a copy of it in the loop, read about \"variable scope\" it's on of the most important things\n",
    "#understand when learning a language. Delete the len() print statements, just put those there to prove its deleted\n",
    "for index, row in enumerate(android_list):\n",
    "    if len(row) != len(android_list[0]):\n",
    "        print(\"before\",len(android_list))\n",
    "        del android_list[index]\n",
    "        print(\"after\",len(android_list))"
   ]
  },
  {
   "cell_type": "markdown",
   "metadata": {},
   "source": [
    "And remove it from the data set. "
   ]
  },
  {
   "cell_type": "code",
   "execution_count": null,
   "metadata": {},
   "outputs": [],
   "source": [
    "#dont ever manualy copy a value like this, I did away with this step  above but if you needed to keep it you would \n",
    "#want to write it to a variable and use that variable later.\n",
    "del android_list[10473]"
   ]
  },
  {
   "cell_type": "markdown",
   "metadata": {},
   "source": [
    "The data set for android apps contains many duplicates. Here I have compiled a list of unique and duplicate apps."
   ]
  },
  {
   "cell_type": "code",
   "execution_count": null,
   "metadata": {},
   "outputs": [],
   "source": [
    "unique_apps = []\n",
    "duplicate_apps = []\n",
    "for row in android_list:\n",
    "    if row[0] in unique_apps:\n",
    "        duplicate_apps.append(row[0])\n",
    "    else:\n",
    "        unique_apps.append(row[0])\n",
    "print(\"Number of duplicate apps: \", len(duplicate_apps))\n",
    "print('\\n')\n",
    "print(\"Examples of duplicate apps: \", duplicate_apps[:15])"
   ]
  },
  {
   "cell_type": "markdown",
   "metadata": {},
   "source": [
    "The duplicates appear to represent data captured at different times. For this reason, I will keep only the instance with the highest number of user ratings--the latest data. I begin by compiling a dictionary documenting the name of each app and the instance with the highest number of user ratings. "
   ]
  },
  {
   "cell_type": "code",
   "execution_count": null,
   "metadata": {},
   "outputs": [],
   "source": [
    "max_reviews = {}\n",
    "for row in android_list:\n",
    "    if row[0] not in max_reviews:\n",
    "        max_reviews[row[0]] = row[3]\n",
    "    elif row[0] in max_reviews and row[3] > max_reviews[row[0]]:\n",
    "        max_reviews[row[0]] = row[3]"
   ]
  },
  {
   "cell_type": "markdown",
   "metadata": {},
   "source": [
    "Then, using the values stored in the dictionary, I create a new \"clean\" data set from which duplicates have been removed.  "
   ]
  },
  {
   "cell_type": "code",
   "execution_count": null,
   "metadata": {},
   "outputs": [],
   "source": [
    "clean_android = []\n",
    "already_added = []\n",
    "for row in android_list:\n",
    "    if row[0] not in already_added and row[3] == max_reviews[row[0]]:\n",
    "        clean_android.append(row)\n",
    "        already_added.append(row[0])\n",
    "android_list = clean_android"
   ]
  },
  {
   "cell_type": "code",
   "execution_count": null,
   "metadata": {},
   "outputs": [],
   "source": [
    "def find_non_english(string):\n",
    "    counter = 0\n",
    "    for character in string:\n",
    "        if ord(character) > 127:\n",
    "            counter += 1\n",
    "            if counter == 4:\n",
    "                return False\n",
    "    return True"
   ]
  },
  {
   "cell_type": "code",
   "execution_count": null,
   "metadata": {},
   "outputs": [],
   "source": [
    "I run a quick search to check how many rows of non-English data are in each set. "
   ]
  },
  {
   "cell_type": "code",
   "execution_count": null,
   "metadata": {},
   "outputs": [],
   "source": [
    "counter1 = 0\n",
    "for row in android_list:\n",
    "    if find_non_english(row[0]) == False:\n",
    "        counter1 += 1\n",
    "print(counter1)\n",
    "\n",
    "counter2 = 0\n",
    "for row in apple_list:\n",
    "    if find_non_english(row[1]) == False:\n",
    "        counter2 += 1\n",
    "print(counter2)"
   ]
  },
  {
   "cell_type": "code",
   "execution_count": null,
   "metadata": {},
   "outputs": [],
   "source": [
    "And then delete them. "
   ]
  },
  {
   "cell_type": "code",
   "execution_count": null,
   "metadata": {},
   "outputs": [],
   "source": [
    "for row in android_list:\n",
    "    if find_non_english(row[0]) == False:\n",
    "        del row\n",
    "\n",
    "for row in apple_list:\n",
    "    if find_non_english(row[1]) == False:\n",
    "        del row"
   ]
  },
  {
   "cell_type": "markdown",
   "metadata": {},
   "source": [
    "Finally, I remove all non free apps from both data sets. "
   ]
  },
  {
   "cell_type": "code",
   "execution_count": null,
   "metadata": {},
   "outputs": [],
   "source": [
    "for row in android_list:\n",
    "    if row[6] != 'free':#are you sure the value you're looking to match here is 'free'?.\n",
    "        print('hello')\n",
    "        del row"
   ]
  },
  {
   "cell_type": "code",
   "execution_count": null,
   "metadata": {},
   "outputs": [],
   "source": [
    "for row in android_list:\n",
    "    print(row[7])"
   ]
  }
 ],
 "metadata": {
  "kernelspec": {
   "display_name": "Python 3",
   "language": "python",
   "name": "python3"
  },
  "language_info": {
   "codemirror_mode": {
    "name": "ipython",
    "version": 3
   },
   "file_extension": ".py",
   "mimetype": "text/x-python",
   "name": "python",
   "nbconvert_exporter": "python",
   "pygments_lexer": "ipython3",
   "version": "3.8.5"
  }
 },
 "nbformat": 4,
 "nbformat_minor": 4
}
